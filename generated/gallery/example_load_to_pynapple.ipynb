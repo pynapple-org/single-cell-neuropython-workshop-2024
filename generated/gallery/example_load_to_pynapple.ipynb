{
  "cells": [
    {
      "cell_type": "code",
      "execution_count": null,
      "metadata": {
        "collapsed": false
      },
      "outputs": [],
      "source": [
        "%matplotlib inline"
      ]
    },
    {
      "cell_type": "markdown",
      "metadata": {},
      "source": [
        "\n# Load an Allen Brain Map NWB into pynapple\n\nIn this example, we show how to load into pynapple an NWB directly downloaded from the Allen Brain Map.\n\n!!! warning \"Intracellular recordings NWBs and pynapple\"\n    NWB files containing intracellular recordings cannot be imported directly into pynapple.\n    This is because pynapple requires a continuous time axis, but these experiments are typically divided into sweeps,\n    with each sweep starting at t = 0 seconds.\n\n    [At this link](https://github.com/pynapple-org/single-cell-neuropython-workshop-2024/blob/main/docs/examples/load_allen.py),\n    we provide the `load_allen.py` module for loading intracellular recordings into `pynapple`.\n     It works by concatenating all sweeps together and adding a fixed inter-trial interval between sweeps to\n     create a continuous time axis.\n\n\nFor this example, let's assume that you download the dataset used in the tutorial directly from the Allen website:\n\n[https://celltypes.brain-map.org/experiment/electrophysiology/478498617](https://celltypes.brain-map.org/experiment/electrophysiology/478498617)\n\nTo load it into pynapple, you can run the following code,\n"
      ]
    },
    {
      "cell_type": "code",
      "execution_count": null,
      "metadata": {
        "collapsed": false
      },
      "outputs": [],
      "source": [
        "# The \"load_allen.py\" module is in\n# https://github.com/pynapple-org/single-cell-neuropython-workshop-2024/blob/main/docs/examples/load_allen.py\nfrom load_allen import load_to_pynapple\n\n# replace this with the path to the nwb data\npath = \"478498615_ephys.nwb\"\n\n# this will return the pynapple representation of the data.\n# note: that we used the same naming as in \"tutorial_pynapple_nemos_single_cell_full.py\"\nspikes, epochs,  current, voltage, sweep_metadata = load_to_pynapple(path)"
      ]
    }
  ],
  "metadata": {
    "kernelspec": {
      "display_name": "Python 3",
      "language": "python",
      "name": "python3"
    },
    "language_info": {
      "codemirror_mode": {
        "name": "ipython",
        "version": 3
      },
      "file_extension": ".py",
      "mimetype": "text/x-python",
      "name": "python",
      "nbconvert_exporter": "python",
      "pygments_lexer": "ipython3",
      "version": "3.11.9"
    }
  },
  "nbformat": 4,
  "nbformat_minor": 0
}