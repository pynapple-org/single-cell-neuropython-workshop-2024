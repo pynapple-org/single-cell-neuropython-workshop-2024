{
  "cells": [
    {
      "cell_type": "code",
      "execution_count": null,
      "metadata": {
        "collapsed": false
      },
      "outputs": [],
      "source": [
        "%matplotlib inline"
      ]
    },
    {
      "cell_type": "markdown",
      "metadata": {},
      "source": [
        "# Tutorial pynapple & NeMoS\n"
      ]
    },
    {
      "cell_type": "markdown",
      "metadata": {},
      "source": [
        "Data for this notebook is a patch clamp experiment with a mouse V1 neuron, from the [Allen Brain Atlas](https://celltypes.brain-map.org/experiment/electrophysiology/478498617)\n\n![Allen Brain Atlas view of the data we will analyze.](../../assets/allen_data.png)\n\n## Learning objectives\n\n- Learn how to explore spiking data and do basic analyses using pynapple\n- Learn how to structure data for NeMoS\n- Learn how to fit a basic Generalized Linear Model using NeMoS\n- Learn how to retrieve the parameters and predictions from a fit GLM for\n  intrepetation.\n\n"
      ]
    },
    {
      "cell_type": "markdown",
      "metadata": {},
      "source": [
        "!!! warning\n    This tutorial uses matplotlib for displaying the figure\n\n    You can install all with `pip install matplotlib requests tqdm`\n\n\n"
      ]
    },
    {
      "cell_type": "code",
      "execution_count": null,
      "metadata": {
        "collapsed": false
      },
      "outputs": [],
      "source": [
        "# !pip install matplotlib requests tqdm"
      ]
    },
    {
      "cell_type": "markdown",
      "metadata": {},
      "source": [
        "In case you did not install beforehand pynapple and nemos, here is the command to install it.\n\n"
      ]
    },
    {
      "cell_type": "code",
      "execution_count": null,
      "metadata": {
        "collapsed": false
      },
      "outputs": [],
      "source": [
        "# !pip install pynapple nemos"
      ]
    },
    {
      "cell_type": "markdown",
      "metadata": {},
      "source": [
        "Import everything\n\n"
      ]
    },
    {
      "cell_type": "code",
      "execution_count": null,
      "metadata": {
        "collapsed": false
      },
      "outputs": [],
      "source": [
        "import math\nimport os\n\nimport jax\nimport matplotlib.pyplot as plt\nimport nemos as nmo\nimport nemos.glm\nimport numpy as np\nimport pynapple as nap\nimport requests\nimport tqdm\nimport workshop_utils.plotting as plotting"
      ]
    },
    {
      "cell_type": "markdown",
      "metadata": {},
      "source": [
        "configure plots some\n\n"
      ]
    },
    {
      "cell_type": "code",
      "execution_count": null,
      "metadata": {
        "collapsed": false
      },
      "outputs": [],
      "source": [
        "plt.style.use(\"workshop_utils/nemos.mplstyle\")"
      ]
    },
    {
      "cell_type": "markdown",
      "metadata": {},
      "source": [
        "## Data Streaming\n\n- Stream the data. Format is [Neurodata Without Borders (NWB) standard](https://nwb-overview.readthedocs.io/en/latest/)\n\n\n"
      ]
    },
    {
      "cell_type": "code",
      "execution_count": null,
      "metadata": {
        "collapsed": false
      },
      "outputs": [],
      "source": [
        "path = \"allen_478498617.nwb\"\nif path not in os.listdir(\".\"):\n  r = requests.get(f\"https://osf.io/vf2nj/download\", stream=True)\n  block_size = 1024*1024\n  with open(path, 'wb') as f:\n    for data in tqdm.tqdm(r.iter_content(block_size), unit='MB', unit_scale=True,\n      total=math.ceil(int(r.headers.get('content-length', 0))//block_size)):\n      f.write(data)"
      ]
    },
    {
      "cell_type": "markdown",
      "metadata": {},
      "source": [
        "## Pynapple\n### Data structures and preparation\n\n- Open the NWB file with [pynapple](https://pynapple-org.github.io/pynapple/)\n\n\n"
      ]
    },
    {
      "cell_type": "code",
      "execution_count": null,
      "metadata": {
        "collapsed": false
      },
      "outputs": [],
      "source": [
        "# Open path and print data"
      ]
    },
    {
      "cell_type": "markdown",
      "metadata": {},
      "source": [
        "![Annotated view of the data we will analyze.](../../assets/allen_data_annotated.gif)\n\n- `stimulus`: Tsd containing injected current, in Amperes, sampled at 20k Hz.\n- `response`: Tsd containing the neuron's intracellular voltage, sampled at 20k Hz.\n- `units`: Tsgroup, dictionary of neurons, holding each neuron's spike timestamps.\n- `epochs`: IntervalSet, dictionary with start and end times of different intervals,\n  defining the experimental structure, specifying when each stimulation protocol began\n  and ended.\n\n\n"
      ]
    },
    {
      "cell_type": "markdown",
      "metadata": {},
      "source": [
        "First let's examine the epochs : \n\n"
      ]
    },
    {
      "cell_type": "code",
      "execution_count": null,
      "metadata": {
        "collapsed": false
      },
      "outputs": [],
      "source": [
        "# Assign the variable epochs from data and print the keys"
      ]
    },
    {
      "cell_type": "markdown",
      "metadata": {},
      "source": [
        "- `Noise 1`: epochs of random noise\n\n\n"
      ]
    },
    {
      "cell_type": "code",
      "execution_count": null,
      "metadata": {
        "collapsed": false
      },
      "outputs": [],
      "source": [
        "# assign to noise_interval the epochs from the keys \"Noise 1\""
      ]
    },
    {
      "cell_type": "markdown",
      "metadata": {},
      "source": [
        "- Let's focus on the first epoch.\n\n\n"
      ]
    },
    {
      "cell_type": "code",
      "execution_count": null,
      "metadata": {
        "collapsed": false
      },
      "outputs": [],
      "source": [
        "# get the first epoch"
      ]
    },
    {
      "cell_type": "markdown",
      "metadata": {},
      "source": [
        "Now let's examine the input current\n- `current` : Tsd (TimeSeriesData) : time index + data\n\nconvert current from Ampere to pico-amperes, to match the Allen Institute figures and\nmove the values to a more reasonable range.\n\n"
      ]
    },
    {
      "cell_type": "code",
      "execution_count": null,
      "metadata": {
        "collapsed": false
      },
      "outputs": [],
      "source": [
        "# assign stimulus as current"
      ]
    },
    {
      "cell_type": "markdown",
      "metadata": {},
      "source": [
        "- `restrict` : restricts a time series object to a set of time intervals delimited by an IntervalSet object\n\n\n"
      ]
    },
    {
      "cell_type": "code",
      "execution_count": null,
      "metadata": {
        "collapsed": false
      },
      "outputs": [],
      "source": [
        "# restrict current to noise_interval"
      ]
    },
    {
      "cell_type": "markdown",
      "metadata": {},
      "source": [
        "- `TsGroup` : a custom dictionary holding multiple `Ts` (timeseries) objects with\n  potentially different time indices.\n\n\n"
      ]
    },
    {
      "cell_type": "code",
      "execution_count": null,
      "metadata": {
        "collapsed": false
      },
      "outputs": [],
      "source": [
        "# assign units from data to a variable called spikes"
      ]
    },
    {
      "cell_type": "markdown",
      "metadata": {},
      "source": [
        "We can index into the `TsGroup` to see the timestamps for this neuron's\nspikes:\n\n\n"
      ]
    },
    {
      "cell_type": "code",
      "execution_count": null,
      "metadata": {
        "collapsed": false
      },
      "outputs": [],
      "source": [
        "# get the first neuron of TsGroup"
      ]
    },
    {
      "cell_type": "markdown",
      "metadata": {},
      "source": [
        "Let's restrict to the same epoch `noise_interval`:\n\n\n"
      ]
    },
    {
      "cell_type": "code",
      "execution_count": null,
      "metadata": {
        "collapsed": false
      },
      "outputs": [],
      "source": [
        "# restrict spikes to noise_interval"
      ]
    },
    {
      "cell_type": "markdown",
      "metadata": {},
      "source": [
        "Let's visualize the data from this trial:\n\n\n"
      ]
    },
    {
      "cell_type": "code",
      "execution_count": null,
      "metadata": {
        "collapsed": false
      },
      "outputs": [],
      "source": [
        "# fig, ax = plt.subplots(1, 1, figsize=(8, 2))\n# ax.plot(current, \"grey\")\n# ax.plot(spikes.to_tsd([-5]), \"|\", color=\"k\", ms = 10)\n# ax.set_ylabel(\"Current (pA)\")\n# ax.set_xlabel(\"Time (s)\")"
      ]
    },
    {
      "cell_type": "markdown",
      "metadata": {},
      "source": [
        "### Basic analyses\n\nThe Generalized Linear Model gives a predicted firing rate. First we can use\npynapple to visualize this firing rate for a single trial.\n\n- `count` : count the number of events within `bin_size`\n\n\n"
      ]
    },
    {
      "cell_type": "code",
      "execution_count": null,
      "metadata": {
        "collapsed": false
      },
      "outputs": [],
      "source": [
        "# count spikes in bin size of 0.001 seconds"
      ]
    },
    {
      "cell_type": "markdown",
      "metadata": {},
      "source": [
        "Let's convert the spike counts to firing rate :\n\n- `smooth` : convolve with a Gaussian kernel\n\n\n"
      ]
    },
    {
      "cell_type": "markdown",
      "metadata": {},
      "source": [
        "the inputs to this function are the standard deviation of the gaussian in seconds and\nthe full width of the window, in standard deviations. So std=.05 and size_factor=20\ngives a total filter size of 0.05 sec * 20 = 1 sec.\n\n"
      ]
    },
    {
      "cell_type": "code",
      "execution_count": null,
      "metadata": {
        "collapsed": false
      },
      "outputs": [],
      "source": [
        "# smooth with a std of 0.05"
      ]
    },
    {
      "cell_type": "markdown",
      "metadata": {},
      "source": [
        "convert from spikes per bin to spikes per second (Hz)\n\n"
      ]
    },
    {
      "cell_type": "code",
      "execution_count": null,
      "metadata": {
        "collapsed": false
      },
      "outputs": [],
      "source": [
        "# divide by bin size"
      ]
    },
    {
      "cell_type": "markdown",
      "metadata": {},
      "source": [
        "we're hiding the details of the plotting function for the purposes of this\ntutorial, but you can find it in the associated github repo if you're\ninterested:\nhttps://github.com/flatironinstitute/ccn-workshop-fens-2024/blob/main/src/workshop_utils/plotting.py\n\n"
      ]
    },
    {
      "cell_type": "code",
      "execution_count": null,
      "metadata": {
        "collapsed": false
      },
      "outputs": [],
      "source": [
        "# plotting.current_injection_plot(current, spikes, firing_rate)"
      ]
    },
    {
      "cell_type": "markdown",
      "metadata": {},
      "source": [
        "What is the relationship between the current and the spiking activity?\n[`compute_1d_tuning_curves`](https://pynapple-org.github.io/pynapple/reference/process/tuning_curves/#pynapple.process.tuning_curves.compute_1d_tuning_curves) : compute the firing rate as a function of a 1-dimensional feature.\n\n\n"
      ]
    },
    {
      "cell_type": "code",
      "execution_count": null,
      "metadata": {
        "collapsed": false
      },
      "outputs": [],
      "source": [
        "# compute tuning curves of spikes and current for 15 bins"
      ]
    },
    {
      "cell_type": "markdown",
      "metadata": {},
      "source": [
        "Let's plot the tuning curve of the neuron.\n\n\n"
      ]
    },
    {
      "cell_type": "code",
      "execution_count": null,
      "metadata": {
        "collapsed": false
      },
      "outputs": [],
      "source": [
        "# plotting.tuning_curve_plot(tuning_curve)"
      ]
    },
    {
      "cell_type": "markdown",
      "metadata": {},
      "source": [
        "## NeMoS\n### Preparing data\n\n Get data from pynapple to NeMoS-ready format:\n\n  - predictors and spikes must have same number of time points\n\n\n"
      ]
    },
    {
      "cell_type": "code",
      "execution_count": null,
      "metadata": {
        "collapsed": false
      },
      "outputs": [],
      "source": [
        "# enter code here"
      ]
    },
    {
      "cell_type": "markdown",
      "metadata": {},
      "source": [
        "- predictors must be 2d, spikes 1d\n\n\n"
      ]
    },
    {
      "cell_type": "code",
      "execution_count": null,
      "metadata": {
        "collapsed": false
      },
      "outputs": [],
      "source": [
        "# enter code here"
      ]
    },
    {
      "cell_type": "markdown",
      "metadata": {},
      "source": [
        "### Fitting the model\n\n  - define a GLM object\n\n\n"
      ]
    },
    {
      "cell_type": "code",
      "execution_count": null,
      "metadata": {
        "collapsed": false
      },
      "outputs": [],
      "source": [
        "# enter code here"
      ]
    },
    {
      "cell_type": "markdown",
      "metadata": {},
      "source": [
        "- call fit and retrieve parameters\n\n\n"
      ]
    },
    {
      "cell_type": "code",
      "execution_count": null,
      "metadata": {
        "collapsed": false
      },
      "outputs": [],
      "source": [
        "# enter code here"
      ]
    },
    {
      "cell_type": "markdown",
      "metadata": {},
      "source": [
        "- generate and examine model predictions.\n\n\n"
      ]
    },
    {
      "cell_type": "code",
      "execution_count": null,
      "metadata": {
        "collapsed": false
      },
      "outputs": [],
      "source": [
        "# enter code here\n# plotting.current_injection_plot(current, spikes, firing_rate,\n#                                                smooth_predicted_fr)"
      ]
    },
    {
      "cell_type": "markdown",
      "metadata": {},
      "source": [
        "- what do we see?\n\n\n"
      ]
    },
    {
      "cell_type": "code",
      "execution_count": null,
      "metadata": {
        "collapsed": false
      },
      "outputs": [],
      "source": [
        "# enter code here"
      ]
    },
    {
      "cell_type": "markdown",
      "metadata": {},
      "source": [
        "- examine tuning curve &mdash; what do we see?\n\n\n"
      ]
    },
    {
      "cell_type": "code",
      "execution_count": null,
      "metadata": {
        "collapsed": false
      },
      "outputs": [],
      "source": [
        "# enter code here\n# fig = plotting.tuning_curve_plot(tuning_curve)\n# fig.axes[0].plot(tuning_curve_model, color=\"tomato\", label=\"glm\")\n# fig.axes[0].legend()"
      ]
    },
    {
      "cell_type": "markdown",
      "metadata": {},
      "source": [
        "### Extending the model\n\n  - choose a length of time over which the neuron integrates the input current\n\n\n"
      ]
    },
    {
      "cell_type": "code",
      "execution_count": null,
      "metadata": {
        "collapsed": false
      },
      "outputs": [],
      "source": [
        "# enter code here"
      ]
    },
    {
      "cell_type": "markdown",
      "metadata": {},
      "source": [
        "- define a basis object\n\n\n"
      ]
    },
    {
      "cell_type": "code",
      "execution_count": null,
      "metadata": {
        "collapsed": false
      },
      "outputs": [],
      "source": [
        "# enter code here"
      ]
    },
    {
      "cell_type": "markdown",
      "metadata": {},
      "source": [
        "- create the design matrix\n- examine the features it contains\n\n\n"
      ]
    },
    {
      "cell_type": "code",
      "execution_count": null,
      "metadata": {
        "collapsed": false
      },
      "outputs": [],
      "source": [
        "# enter code here\n# in this plot, we're normalizing the amplitudes to make the comparison easier --\n# the amplitude of these features will be fit by the model, so their un-scaled\n# amplitudes is not informative\n# plotting.plot_current_history_features(binned_current, current_history, basis,\n#                                                       current_history_duration_sec)"
      ]
    },
    {
      "cell_type": "markdown",
      "metadata": {},
      "source": [
        "- create and fit the GLM\n- examine the parameters\n\n\n"
      ]
    },
    {
      "cell_type": "code",
      "execution_count": null,
      "metadata": {
        "collapsed": false
      },
      "outputs": [],
      "source": [
        "# enter code here"
      ]
    },
    {
      "cell_type": "markdown",
      "metadata": {},
      "source": [
        "- compare the predicted firing rate to the data and the old model\n- what do we see?\n\n\n"
      ]
    },
    {
      "cell_type": "code",
      "execution_count": null,
      "metadata": {
        "collapsed": false
      },
      "outputs": [],
      "source": [
        "# enter code here"
      ]
    },
    {
      "cell_type": "markdown",
      "metadata": {},
      "source": [
        "- examine the predicted average firing rate and tuning curve\n- what do we see?\n\n\n"
      ]
    },
    {
      "cell_type": "code",
      "execution_count": null,
      "metadata": {
        "collapsed": false
      },
      "outputs": [],
      "source": [
        "# enter code here"
      ]
    },
    {
      "cell_type": "markdown",
      "metadata": {},
      "source": [
        "- use log-likelihood to compare models\n\n\n"
      ]
    },
    {
      "cell_type": "code",
      "execution_count": null,
      "metadata": {
        "collapsed": false
      },
      "outputs": [],
      "source": [
        "# enter code here"
      ]
    },
    {
      "cell_type": "markdown",
      "metadata": {},
      "source": [
        "### Finishing up\n\n  - what if you want to compare models across datasets?\n\n\n"
      ]
    },
    {
      "cell_type": "code",
      "execution_count": null,
      "metadata": {
        "collapsed": false
      },
      "outputs": [],
      "source": [
        "# enter code here"
      ]
    },
    {
      "cell_type": "markdown",
      "metadata": {},
      "source": [
        "- what about spiking?\n\n\n"
      ]
    },
    {
      "cell_type": "code",
      "execution_count": null,
      "metadata": {
        "collapsed": false
      },
      "outputs": [],
      "source": [
        "# enter code here"
      ]
    },
    {
      "cell_type": "markdown",
      "metadata": {},
      "source": [
        "## Further Exercises\n\n  - what else can we do?\n\n## Data citation\n\nThe data used in this tutorial is from the Allen Brain Map, with the\n[following\ncitation](https://knowledge.brain-map.org/data/1HEYEW7GMUKWIQW37BO/summary):\n\n**Contributors**: Agata Budzillo, Bosiljka Tasic, Brian R. Lee, Fahimeh\nBaftizadeh, Gabe Murphy, Hongkui Zeng, Jim Berg, Nathan Gouwens, Rachel\nDalley, Staci A. Sorensen, Tim Jarsky, Uygar S\u00fcmb\u00fcl Zizhen Yao\n\n**Dataset**: Allen Institute for Brain Science (2020). Allen Cell Types Database\n-- Mouse Patch-seq [dataset]. Available from\nbrain-map.org/explore/classes/multimodal-characterization.\n\n**Primary publication**: Gouwens, N.W., Sorensen, S.A., et al. (2020). Integrated\nmorphoelectric and transcriptomic classification of cortical GABAergic cells.\nCell, 183(4), 935-953.E19. https://doi.org/10.1016/j.cell.2020.09.057\n\n**Patch-seq protocol**: Lee, B. R., Budzillo, A., et al. (2021). Scaled, high\nfidelity electrophysiological, morphological, and transcriptomic cell\ncharacterization. eLife, 2021;10:e65482. https://doi.org/10.7554/eLife.65482\n\n**Mouse VISp L2/3 glutamatergic neurons**: Berg, J., Sorensen, S. A., Miller, J.,\nTing, J., et al. (2021) Human neocortical expansion involves glutamatergic\nneuron diversification. Nature, 598(7879):151-158. doi:\n10.1038/s41586-021-03813-8\n"
      ]
    }
  ],
  "metadata": {
    "kernelspec": {
      "display_name": "Python 3",
      "language": "python",
      "name": "python3"
    },
    "language_info": {
      "codemirror_mode": {
        "name": "ipython",
        "version": 3
      },
      "file_extension": ".py",
      "mimetype": "text/x-python",
      "name": "python",
      "nbconvert_exporter": "python",
      "pygments_lexer": "ipython3",
      "version": "3.11.9"
    }
  },
  "nbformat": 4,
  "nbformat_minor": 0
}